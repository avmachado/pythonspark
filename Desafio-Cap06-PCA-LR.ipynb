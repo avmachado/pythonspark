{
 "cells": [
  {
   "cell_type": "markdown",
   "metadata": {},
   "source": [
    "## Desafio - Utilizando Pipeline para concatenar modelos de Machine Learning"
   ]
  },
  {
   "cell_type": "markdown",
   "metadata": {},
   "source": [
    "<b>Modelo preditivo de classificação para prever o valor de uma variável binária (true ou false) a partir de dados numéricos.</b><br>\n",
    "Esse é um desafio da Data Science Academy do curso Big Data Real-Time Analytics com Python e Spark. \n",
    "O objetivo do desafio é pesquisar e aplicar a função de Pipeline do Scikit-learn para concatenar transformações e estimadores nos dados."
   ]
  },
  {
   "cell_type": "markdown",
   "metadata": {},
   "source": [
    "A primeira e segunda etapa do desafio já havia sido realizada pela Data Science Academy, e foram passadas algumas instruções para as etapas seguintes."
   ]
  },
  {
   "cell_type": "markdown",
   "metadata": {},
   "source": [
    "### ETAPA 1\n",
    "Importação dos módulos a serem utilizados no desafio."
   ]
  },
  {
   "cell_type": "code",
   "execution_count": 1,
   "metadata": {},
   "outputs": [],
   "source": [
    "# Import dos módulos\n",
    "import numpy as np\n",
    "import pandas as pd\n",
    "from sklearn.decomposition import PCA\n",
    "from sklearn.pipeline import Pipeline\n",
    "from sklearn.linear_model import LogisticRegression\n",
    "import warnings\n",
    "warnings.filterwarnings(\"ignore\")"
   ]
  },
  {
   "cell_type": "markdown",
   "metadata": {},
   "source": [
    "### ETAPA 2\n",
    "Criação dos dados de treino e de teste para o problema de classificação."
   ]
  },
  {
   "cell_type": "code",
   "execution_count": 2,
   "metadata": {},
   "outputs": [],
   "source": [
    "# Dados de treino\n",
    "n_train = 10\n",
    "np.random.seed(0)\n",
    "df_treino = pd.DataFrame({\"var1\": np.random.random(n_train), \\\n",
    "                          \"var2\": np.random.random(n_train), \\\n",
    "                          \"var3\": np.random.random(n_train), \\\n",
    "                          \"var4\": np.random.randint(0,2,n_train).astype(bool),\\\n",
    "                          \"target\": np.random.randint(0,2,n_train).astype(bool)})"
   ]
  },
  {
   "cell_type": "code",
   "execution_count": 3,
   "metadata": {},
   "outputs": [],
   "source": [
    "# Dados de teste\n",
    "n_test = 3\n",
    "np.random.seed(1)\n",
    "df_teste = pd.DataFrame({\"var1\": np.random.random(n_test), \\\n",
    "                         \"var2\": np.random.random(n_test), \\\n",
    "                         \"var3\": np.random.random(n_test), \\\n",
    "                         \"var4\": np.random.randint(0,2,n_test).astype(bool),\\\n",
    "                         \"target\": np.random.randint(0,2,n_test).astype(bool)})"
   ]
  },
  {
   "cell_type": "markdown",
   "metadata": {},
   "source": [
    "### DESAFIO"
   ]
  },
  {
   "cell_type": "markdown",
   "metadata": {},
   "source": [
    "Antes de começar efetivamente a resolução das etapas seguintes, imprimi os dados criados anteriormente para visualizar o formato do dataframe e a distribuição dos dados."
   ]
  },
  {
   "cell_type": "code",
   "execution_count": 15,
   "metadata": {},
   "outputs": [
    {
     "data": {
      "text/html": [
       "<div>\n",
       "<style scoped>\n",
       "    .dataframe tbody tr th:only-of-type {\n",
       "        vertical-align: middle;\n",
       "    }\n",
       "\n",
       "    .dataframe tbody tr th {\n",
       "        vertical-align: top;\n",
       "    }\n",
       "\n",
       "    .dataframe thead th {\n",
       "        text-align: right;\n",
       "    }\n",
       "</style>\n",
       "<table border=\"1\" class=\"dataframe\">\n",
       "  <thead>\n",
       "    <tr style=\"text-align: right;\">\n",
       "      <th></th>\n",
       "      <th>var1</th>\n",
       "      <th>var2</th>\n",
       "      <th>var3</th>\n",
       "      <th>var4</th>\n",
       "      <th>target</th>\n",
       "    </tr>\n",
       "  </thead>\n",
       "  <tbody>\n",
       "    <tr>\n",
       "      <th>0</th>\n",
       "      <td>0.548814</td>\n",
       "      <td>0.791725</td>\n",
       "      <td>0.978618</td>\n",
       "      <td>True</td>\n",
       "      <td>True</td>\n",
       "    </tr>\n",
       "    <tr>\n",
       "      <th>1</th>\n",
       "      <td>0.715189</td>\n",
       "      <td>0.528895</td>\n",
       "      <td>0.799159</td>\n",
       "      <td>False</td>\n",
       "      <td>True</td>\n",
       "    </tr>\n",
       "    <tr>\n",
       "      <th>2</th>\n",
       "      <td>0.602763</td>\n",
       "      <td>0.568045</td>\n",
       "      <td>0.461479</td>\n",
       "      <td>True</td>\n",
       "      <td>False</td>\n",
       "    </tr>\n",
       "    <tr>\n",
       "      <th>3</th>\n",
       "      <td>0.544883</td>\n",
       "      <td>0.925597</td>\n",
       "      <td>0.780529</td>\n",
       "      <td>False</td>\n",
       "      <td>False</td>\n",
       "    </tr>\n",
       "    <tr>\n",
       "      <th>4</th>\n",
       "      <td>0.423655</td>\n",
       "      <td>0.071036</td>\n",
       "      <td>0.118274</td>\n",
       "      <td>True</td>\n",
       "      <td>False</td>\n",
       "    </tr>\n",
       "    <tr>\n",
       "      <th>5</th>\n",
       "      <td>0.645894</td>\n",
       "      <td>0.087129</td>\n",
       "      <td>0.639921</td>\n",
       "      <td>False</td>\n",
       "      <td>True</td>\n",
       "    </tr>\n",
       "    <tr>\n",
       "      <th>6</th>\n",
       "      <td>0.437587</td>\n",
       "      <td>0.020218</td>\n",
       "      <td>0.143353</td>\n",
       "      <td>False</td>\n",
       "      <td>True</td>\n",
       "    </tr>\n",
       "    <tr>\n",
       "      <th>7</th>\n",
       "      <td>0.891773</td>\n",
       "      <td>0.832620</td>\n",
       "      <td>0.944669</td>\n",
       "      <td>False</td>\n",
       "      <td>False</td>\n",
       "    </tr>\n",
       "    <tr>\n",
       "      <th>8</th>\n",
       "      <td>0.963663</td>\n",
       "      <td>0.778157</td>\n",
       "      <td>0.521848</td>\n",
       "      <td>False</td>\n",
       "      <td>True</td>\n",
       "    </tr>\n",
       "    <tr>\n",
       "      <th>9</th>\n",
       "      <td>0.383442</td>\n",
       "      <td>0.870012</td>\n",
       "      <td>0.414662</td>\n",
       "      <td>False</td>\n",
       "      <td>False</td>\n",
       "    </tr>\n",
       "  </tbody>\n",
       "</table>\n",
       "</div>"
      ],
      "text/plain": [
       "       var1      var2      var3   var4  target\n",
       "0  0.548814  0.791725  0.978618   True    True\n",
       "1  0.715189  0.528895  0.799159  False    True\n",
       "2  0.602763  0.568045  0.461479   True   False\n",
       "3  0.544883  0.925597  0.780529  False   False\n",
       "4  0.423655  0.071036  0.118274   True   False\n",
       "5  0.645894  0.087129  0.639921  False    True\n",
       "6  0.437587  0.020218  0.143353  False    True\n",
       "7  0.891773  0.832620  0.944669  False   False\n",
       "8  0.963663  0.778157  0.521848  False    True\n",
       "9  0.383442  0.870012  0.414662  False   False"
      ]
     },
     "execution_count": 15,
     "metadata": {},
     "output_type": "execute_result"
    }
   ],
   "source": [
    "df_treino"
   ]
  },
  {
   "cell_type": "code",
   "execution_count": 16,
   "metadata": {},
   "outputs": [
    {
     "data": {
      "text/html": [
       "<div>\n",
       "<style scoped>\n",
       "    .dataframe tbody tr th:only-of-type {\n",
       "        vertical-align: middle;\n",
       "    }\n",
       "\n",
       "    .dataframe tbody tr th {\n",
       "        vertical-align: top;\n",
       "    }\n",
       "\n",
       "    .dataframe thead th {\n",
       "        text-align: right;\n",
       "    }\n",
       "</style>\n",
       "<table border=\"1\" class=\"dataframe\">\n",
       "  <thead>\n",
       "    <tr style=\"text-align: right;\">\n",
       "      <th></th>\n",
       "      <th>var1</th>\n",
       "      <th>var2</th>\n",
       "      <th>var3</th>\n",
       "      <th>var4</th>\n",
       "      <th>target</th>\n",
       "    </tr>\n",
       "  </thead>\n",
       "  <tbody>\n",
       "    <tr>\n",
       "      <th>0</th>\n",
       "      <td>0.417022</td>\n",
       "      <td>0.302333</td>\n",
       "      <td>0.186260</td>\n",
       "      <td>False</td>\n",
       "      <td>True</td>\n",
       "    </tr>\n",
       "    <tr>\n",
       "      <th>1</th>\n",
       "      <td>0.720324</td>\n",
       "      <td>0.146756</td>\n",
       "      <td>0.345561</td>\n",
       "      <td>False</td>\n",
       "      <td>False</td>\n",
       "    </tr>\n",
       "    <tr>\n",
       "      <th>2</th>\n",
       "      <td>0.000114</td>\n",
       "      <td>0.092339</td>\n",
       "      <td>0.396767</td>\n",
       "      <td>False</td>\n",
       "      <td>False</td>\n",
       "    </tr>\n",
       "  </tbody>\n",
       "</table>\n",
       "</div>"
      ],
      "text/plain": [
       "       var1      var2      var3   var4  target\n",
       "0  0.417022  0.302333  0.186260  False    True\n",
       "1  0.720324  0.146756  0.345561  False   False\n",
       "2  0.000114  0.092339  0.396767  False   False"
      ]
     },
     "execution_count": 16,
     "metadata": {},
     "output_type": "execute_result"
    }
   ],
   "source": [
    "df_teste"
   ]
  },
  {
   "cell_type": "markdown",
   "metadata": {},
   "source": [
    "### ETAPA 3\n",
    "#### Crie um modelo com PCA para redução de dimensionalidade com 3 componentes\n",
    "\n",
    "É importante ressaltar nesse momento que a aplicação do PCA e do Pipeline aqui têm caráter didático apenas. Como temos poucas variáveis (colunas) no dataset, não seria necessário aplicar o PCA.\n",
    "\n",
    "O PCA (Principal Component Analysis) é um método para redução de dimensionalidade. Esse método é usado quando temos um dataset com um número muito grande de variáveis e que pode ocasionar problemas como overfitting, ou necessitar de um poder computacional bastante alto. <br>\n",
    "Esse método reduz a quantidade de variáveis no dataset sem que informações importantes presentes nessas variáveis sejam perdidas. Em resumo, essa técnica é baseada em aprendizagem não supervisionada, na qual o algoritmo faz uma busca por padrões entre as variáveis e constroi os componentes principais por meio de eixos ortogonais em direções que maximizam a variância. <br>\n",
    "\n",
    "Antes de construir o modelo de redução de dimensionalidade, é importante que os dados originais sejam separados em variáveis preditoras e variável target."
   ]
  },
  {
   "cell_type": "code",
   "execution_count": 5,
   "metadata": {},
   "outputs": [],
   "source": [
    "# Separando a variável target das demais\n",
    "# Dados de treino\n",
    "df_treino_data = df_treino.iloc[:, 0:4]\n",
    "df_treino_target = df_treino.iloc[:, 4]\n",
    "\n",
    "# Dados de teste\n",
    "df_teste_data = df_teste.iloc[:, 0:4]\n",
    "df_teste_target = df_teste.iloc[:, 4]"
   ]
  },
  {
   "cell_type": "markdown",
   "metadata": {},
   "source": [
    "A construção do modelo do PCA é praticamente igual à construção de demais modelos de Machine Learning, abstraindo os parâmetros específicos de cada um."
   ]
  },
  {
   "cell_type": "code",
   "execution_count": 6,
   "metadata": {},
   "outputs": [],
   "source": [
    "# Construindo o modelo\n",
    "pca = PCA(n_components = 3)"
   ]
  },
  {
   "cell_type": "code",
   "execution_count": 7,
   "metadata": {},
   "outputs": [
    {
     "data": {
      "text/plain": [
       "PCA(n_components=3)"
      ]
     },
     "execution_count": 7,
     "metadata": {},
     "output_type": "execute_result"
    }
   ],
   "source": [
    "# Treinando o modelo\n",
    "pca.fit(df_treino_data)"
   ]
  },
  {
   "cell_type": "markdown",
   "metadata": {},
   "source": [
    "### ETAPA 4\n",
    "#### Aplique o PCA aos datasets e crie dataframes do pandas com os resultados"
   ]
  },
  {
   "cell_type": "code",
   "execution_count": 8,
   "metadata": {},
   "outputs": [],
   "source": [
    "# Aplicando o modelo nos datasets e criando os dataframes\n",
    "df_treino_pca = pd.DataFrame(pca.transform(df_treino_data))\n",
    "df_teste_pca = pd.DataFrame(pca.transform(df_teste_data))"
   ]
  },
  {
   "cell_type": "markdown",
   "metadata": {},
   "source": [
    "### ETAPA 5\n",
    "#### Crie um modelo de regressão logística"
   ]
  },
  {
   "cell_type": "code",
   "execution_count": 10,
   "metadata": {},
   "outputs": [],
   "source": [
    "# Criando o modelo\n",
    "modelo_rl = LogisticRegression()"
   ]
  },
  {
   "cell_type": "markdown",
   "metadata": {},
   "source": [
    "### ETAPA 6\n",
    "#### Usando o recurso de pipeline do scikit-learn para encadear 2 algoritmos em um mesmo modelo, concatene o resultado do PCA e Regressão Logística"
   ]
  },
  {
   "cell_type": "code",
   "execution_count": 11,
   "metadata": {},
   "outputs": [],
   "source": [
    "# Construindo o pipeline\n",
    "pipe = Pipeline([('PCA', pca), ('LogisticRegression', modelo_rl)])"
   ]
  },
  {
   "cell_type": "code",
   "execution_count": 12,
   "metadata": {},
   "outputs": [
    {
     "data": {
      "text/plain": [
       "Pipeline(steps=[('PCA', PCA(n_components=3)),\n",
       "                ('LogisticRegression', LogisticRegression())])"
      ]
     },
     "execution_count": 12,
     "metadata": {},
     "output_type": "execute_result"
    }
   ],
   "source": [
    "# Treinando o modelo\n",
    "pipe.fit(df_treino_data, df_treino_target)"
   ]
  },
  {
   "cell_type": "markdown",
   "metadata": {},
   "source": [
    "### ETAPA 7\n",
    "#### Faça previsões com o modelo treinado"
   ]
  },
  {
   "cell_type": "code",
   "execution_count": 13,
   "metadata": {},
   "outputs": [
    {
     "data": {
      "text/plain": [
       "array([ True,  True,  True])"
      ]
     },
     "execution_count": 13,
     "metadata": {},
     "output_type": "execute_result"
    }
   ],
   "source": [
    "# Fazendo previsões\n",
    "pipe.predict(df_teste_data)"
   ]
  },
  {
   "cell_type": "code",
   "execution_count": 17,
   "metadata": {},
   "outputs": [
    {
     "name": "stdout",
     "output_type": "stream",
     "text": [
      "Score final: 33.333%\n"
     ]
    }
   ],
   "source": [
    "# Avaliando o score do modelo\n",
    "# Com o método score, o modelo aplica todas as transformações e apresenta a % dos resultados com o estimador final.\n",
    "print(f\"Score final: {round((pipe.score(df_teste_data, df_teste_target))*100, 3)}%\")"
   ]
  },
  {
   "cell_type": "markdown",
   "metadata": {},
   "source": [
    "Para finalizar, o intuito desse desafio foi entender e aplicar o Pipeline com dois algoritmos, um para transformação (nesse caso para Feature Extraction) e outro para implementar um modelo de classificação. <br>\n",
    "Por isso, o score final do modelo não é interessante, e nem significativo, uma vez que esse exemplo foi realizado para fins didáticos."
   ]
  },
  {
   "cell_type": "code",
   "execution_count": null,
   "metadata": {},
   "outputs": [],
   "source": []
  }
 ],
 "metadata": {
  "kernelspec": {
   "display_name": "Python 3",
   "language": "python",
   "name": "python3"
  },
  "language_info": {
   "codemirror_mode": {
    "name": "ipython",
    "version": 3
   },
   "file_extension": ".py",
   "mimetype": "text/x-python",
   "name": "python",
   "nbconvert_exporter": "python",
   "pygments_lexer": "ipython3",
   "version": "3.8.5"
  }
 },
 "nbformat": 4,
 "nbformat_minor": 4
}
